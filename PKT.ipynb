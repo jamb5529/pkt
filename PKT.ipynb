{
 "cells": [
  {
   "cell_type": "markdown",
   "metadata": {},
   "source": [
    "Process Knowledge Tracing (PKT): Knowledge tracing within single programming task using students' deep process data. In this paper, the zss TED between each intermediate solution and the best solution is caclated to represent the solutioin quality."
   ]
  },
  {
   "cell_type": "code",
   "execution_count": 4,
   "metadata": {},
   "outputs": [
    {
     "name": "stdout",
     "output_type": "stream",
     "text": [
      "Average Accuracy: 0.938223\n",
      "Average Recall: 0.990241\n",
      "Average Specificity: 0.350164\n",
      "Average LDOR: 4.004442\n"
     ]
    }
   ],
   "source": [
    "from utils import *\n",
    "from filepath import *\n",
    "import pandas as pd\n",
    "import numpy as np\n",
    "import zss\n",
    "from sklearn.linear_model import LogisticRegression\n",
    "from sklearn import model_selection\n",
    "from sklearn.model_selection import RepeatedStratifiedKFold\n",
    "from featurization import *\n",
    "\n",
    "# If you don't want to use the  ai trajectory we have already generated and saved\n",
    "# in ai_trajectory.pkl, you can run generate_ai_sequence, it would take about 30 minutes because\n",
    "# of the huge amount of ast files in this dataset.\n",
    "df = pd.read_csv(idMap)\n",
    "# get the ast no lists in folder ASTs\n",
    "ast_list = get_ast_lists (asts)\n",
    "#the ast no of the best solution\n",
    "best_ast_no = 0\n",
    "#ai_traj = generate_ai_sequence(df, ast_list,best_ast_no)\n",
    "feature = featurization(idMap)\n",
    "\n",
    "x = feature[['aiScore','attempts','response']].values\n",
    "y = feature['label'].values\n",
    "model= LogisticRegression()\n",
    "kfold = RepeatedStratifiedKFold(n_splits=10,n_repeats=10)\n",
    "acc,rec,spe,dor = [],[],[],[]\n",
    "for train, test in kfold.split(x,y):\n",
    "    x_train, x_test, y_train, y_test = x[train], x[test], y[train], y[test]\n",
    "    model.fit(x_train, y_train)\n",
    "    y_pred = model.predict(x_test)\n",
    "    cmat = confusion_matrix(y_test,y_pred)\n",
    "    a,b,c,d = metrics(cmat)\n",
    "    acc.append(a)\n",
    "    rec.append(b)\n",
    "    spe.append(c)\n",
    "    dor.append(d)\n",
    "print \"Average Accuracy: %f\" % np.mean(acc)\n",
    "print \"Average Recall: %f\" % np.mean(rec)\n",
    "print \"Average Specificity: %f\" % np.mean(spe)\n",
    "print \"Average LDOR: %f\" % np.mean(dor)"
   ]
  }
 ],
 "metadata": {
  "kernelspec": {
   "display_name": "Python 2",
   "language": "python",
   "name": "python2"
  },
  "language_info": {
   "codemirror_mode": {
    "name": "ipython",
    "version": 2
   },
   "file_extension": ".py",
   "mimetype": "text/x-python",
   "name": "python",
   "nbconvert_exporter": "python",
   "pygments_lexer": "ipython2",
   "version": "2.7.13"
  }
 },
 "nbformat": 4,
 "nbformat_minor": 2
}
